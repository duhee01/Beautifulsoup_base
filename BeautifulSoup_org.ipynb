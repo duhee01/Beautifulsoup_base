{
 "cells": [
  {
   "cell_type": "code",
   "execution_count": 2,
   "id": "c8413848",
   "metadata": {},
   "outputs": [],
   "source": [
    "import requests\n",
    "from bs4 import BeautifulSoup"
   ]
  },
  {
   "cell_type": "code",
   "execution_count": 4,
   "id": "f63d851a",
   "metadata": {},
   "outputs": [],
   "source": [
    "webpage = requests.get(\"https://www.daangn.com/hot_articles\")\n",
    "soup = BeautifulSoup(webpage.content,\"html.parser\")"
   ]
  },
  {
   "cell_type": "code",
   "execution_count": 5,
   "id": "2bfe8e43",
   "metadata": {},
   "outputs": [
    {
     "name": "stdout",
     "output_type": "stream",
     "text": [
      "<p>당근마켓 앱에서 따뜻한 거래를 직접 경험해보세요!</p>\n"
     ]
    }
   ],
   "source": [
    "#첫번째 태그를 찾아줌.\n",
    "print(soup.p)"
   ]
  },
  {
   "cell_type": "code",
   "execution_count": 6,
   "id": "42db2262",
   "metadata": {},
   "outputs": [
    {
     "name": "stdout",
     "output_type": "stream",
     "text": [
      "당근마켓 앱에서 따뜻한 거래를 직접 경험해보세요!\n"
     ]
    }
   ],
   "source": [
    "#<p>이런 속성들은 빼고 텍스트만 가져와줌\n",
    "print(soup.p.string)"
   ]
  },
  {
   "cell_type": "code",
   "execution_count": 7,
   "id": "b173719d",
   "metadata": {},
   "outputs": [
    {
     "name": "stdout",
     "output_type": "stream",
     "text": [
      "<h1 class=\"head-title\" id=\"hot-articles-head-title\">\n",
      "      \n",
      "      \n",
      "      중고거래 인기매물\n",
      "  </h1>\n"
     ]
    }
   ],
   "source": [
    "#h1태그 출력\n",
    "print(soup.h1)"
   ]
  },
  {
   "cell_type": "markdown",
   "id": "5afffafe",
   "metadata": {},
   "source": [
    "cmd python 경로를 통해서 requests와 Beautifulsoup를 설치함.\n",
    "\n",
    "속성 빼고 텍스트만 가져와주는 코드를 알아냄.\n",
    "\n",
    "https://hleecaster.com/python-web-crawling-with-beautifulsoup 참고한 사이트 "
   ]
  }
 ],
 "metadata": {
  "kernelspec": {
   "display_name": "Python 3",
   "language": "python",
   "name": "python3"
  },
  "language_info": {
   "codemirror_mode": {
    "name": "ipython",
    "version": 3
   },
   "file_extension": ".py",
   "mimetype": "text/x-python",
   "name": "python",
   "nbconvert_exporter": "python",
   "pygments_lexer": "ipython3",
   "version": "3.8.8"
  }
 },
 "nbformat": 4,
 "nbformat_minor": 5
}
